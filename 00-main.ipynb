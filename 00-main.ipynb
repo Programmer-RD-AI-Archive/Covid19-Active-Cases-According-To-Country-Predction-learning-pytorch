{
 "cells": [
  {
   "cell_type": "markdown",
   "metadata": {},
   "source": [
    "# WorkFlow\n",
    "## Load the data\n",
    "## Clean the data\n",
    "## Visualize the data\n",
    "## Modelling"
   ]
  },
  {
   "cell_type": "markdown",
   "metadata": {},
   "source": [
    "## Load the data"
   ]
  },
  {
   "cell_type": "code",
   "execution_count": 1,
   "metadata": {},
   "outputs": [],
   "source": [
    "import pandas as pd"
   ]
  },
  {
   "cell_type": "code",
   "execution_count": 2,
   "metadata": {},
   "outputs": [],
   "source": [
    "data = pd.read_csv('./data.csv')"
   ]
  },
  {
   "cell_type": "code",
   "execution_count": 3,
   "metadata": {},
   "outputs": [],
   "source": [
    "data = data.drop('Country_Region',axis=1)"
   ]
  },
  {
   "cell_type": "code",
   "execution_count": 4,
   "metadata": {},
   "outputs": [
    {
     "name": "stderr",
     "output_type": "stream",
     "text": [
      "100%|██████████| 25/25 [00:03<00:00,  6.27it/s]\n"
     ]
    }
   ],
   "source": [
    "from tqdm import tqdm\n",
    "for _ in tqdm(range(25)):\n",
    "    data = data.sample(frac=1)"
   ]
  },
  {
   "cell_type": "code",
   "execution_count": 5,
   "metadata": {},
   "outputs": [
    {
     "data": {
      "text/plain": [
       "1058552"
      ]
     },
     "execution_count": 5,
     "metadata": {},
     "output_type": "execute_result"
    }
   ],
   "source": [
    "len(data)"
   ]
  },
  {
   "cell_type": "markdown",
   "metadata": {},
   "source": [
    "## Clean the data"
   ]
  },
  {
   "cell_type": "code",
   "execution_count": 6,
   "metadata": {},
   "outputs": [
    {
     "data": {
      "text/html": [
       "<div>\n",
       "<style scoped>\n",
       "    .dataframe tbody tr th:only-of-type {\n",
       "        vertical-align: middle;\n",
       "    }\n",
       "\n",
       "    .dataframe tbody tr th {\n",
       "        vertical-align: top;\n",
       "    }\n",
       "\n",
       "    .dataframe thead th {\n",
       "        text-align: right;\n",
       "    }\n",
       "</style>\n",
       "<table border=\"1\" class=\"dataframe\">\n",
       "  <thead>\n",
       "    <tr style=\"text-align: right;\">\n",
       "      <th></th>\n",
       "      <th>ObservationDate</th>\n",
       "      <th>Province_State</th>\n",
       "      <th>Confirmed</th>\n",
       "      <th>Deaths</th>\n",
       "      <th>Recovered</th>\n",
       "      <th>Active</th>\n",
       "    </tr>\n",
       "  </thead>\n",
       "  <tbody>\n",
       "    <tr>\n",
       "      <th>341244</th>\n",
       "      <td>2020-06-30</td>\n",
       "      <td>South Dakota</td>\n",
       "      <td>342</td>\n",
       "      <td>2.0</td>\n",
       "      <td>0.0</td>\n",
       "      <td>340.0</td>\n",
       "    </tr>\n",
       "    <tr>\n",
       "      <th>766236</th>\n",
       "      <td>2020-10-19</td>\n",
       "      <td>Iowa</td>\n",
       "      <td>281</td>\n",
       "      <td>4.0</td>\n",
       "      <td>0.0</td>\n",
       "      <td>277.0</td>\n",
       "    </tr>\n",
       "    <tr>\n",
       "      <th>306687</th>\n",
       "      <td>2020-06-20</td>\n",
       "      <td>Mari El Republic</td>\n",
       "      <td>2642</td>\n",
       "      <td>20.0</td>\n",
       "      <td>2543.0</td>\n",
       "      <td>79.0</td>\n",
       "    </tr>\n",
       "    <tr>\n",
       "      <th>538215</th>\n",
       "      <td>2020-08-19</td>\n",
       "      <td>Ohio</td>\n",
       "      <td>565</td>\n",
       "      <td>6.0</td>\n",
       "      <td>0.0</td>\n",
       "      <td>559.0</td>\n",
       "    </tr>\n",
       "    <tr>\n",
       "      <th>580216</th>\n",
       "      <td>2020-08-31</td>\n",
       "      <td>Illinois</td>\n",
       "      <td>114</td>\n",
       "      <td>1.0</td>\n",
       "      <td>0.0</td>\n",
       "      <td>113.0</td>\n",
       "    </tr>\n",
       "  </tbody>\n",
       "</table>\n",
       "</div>"
      ],
      "text/plain": [
       "       ObservationDate    Province_State  Confirmed  Deaths  Recovered  Active\n",
       "341244      2020-06-30      South Dakota        342     2.0        0.0   340.0\n",
       "766236      2020-10-19              Iowa        281     4.0        0.0   277.0\n",
       "306687      2020-06-20  Mari El Republic       2642    20.0     2543.0    79.0\n",
       "538215      2020-08-19              Ohio        565     6.0        0.0   559.0\n",
       "580216      2020-08-31          Illinois        114     1.0        0.0   113.0"
      ]
     },
     "execution_count": 6,
     "metadata": {},
     "output_type": "execute_result"
    }
   ],
   "source": [
    "data.head()"
   ]
  },
  {
   "cell_type": "code",
   "execution_count": 7,
   "metadata": {},
   "outputs": [
    {
     "data": {
      "text/plain": [
       "Index(['ObservationDate', 'Province_State', 'Confirmed', 'Deaths', 'Recovered',\n",
       "       'Active'],\n",
       "      dtype='object')"
      ]
     },
     "execution_count": 7,
     "metadata": {},
     "output_type": "execute_result"
    }
   ],
   "source": [
    "data.columns"
   ]
  },
  {
   "cell_type": "code",
   "execution_count": 8,
   "metadata": {},
   "outputs": [],
   "source": [
    "data = data.drop(['Province_State','Confirmed','Deaths','Recovered'],axis=1)"
   ]
  },
  {
   "cell_type": "code",
   "execution_count": 9,
   "metadata": {},
   "outputs": [
    {
     "data": {
      "text/html": [
       "<div>\n",
       "<style scoped>\n",
       "    .dataframe tbody tr th:only-of-type {\n",
       "        vertical-align: middle;\n",
       "    }\n",
       "\n",
       "    .dataframe tbody tr th {\n",
       "        vertical-align: top;\n",
       "    }\n",
       "\n",
       "    .dataframe thead th {\n",
       "        text-align: right;\n",
       "    }\n",
       "</style>\n",
       "<table border=\"1\" class=\"dataframe\">\n",
       "  <thead>\n",
       "    <tr style=\"text-align: right;\">\n",
       "      <th></th>\n",
       "      <th>ObservationDate</th>\n",
       "      <th>Active</th>\n",
       "    </tr>\n",
       "  </thead>\n",
       "  <tbody>\n",
       "    <tr>\n",
       "      <th>341244</th>\n",
       "      <td>2020-06-30</td>\n",
       "      <td>340.0</td>\n",
       "    </tr>\n",
       "    <tr>\n",
       "      <th>766236</th>\n",
       "      <td>2020-10-19</td>\n",
       "      <td>277.0</td>\n",
       "    </tr>\n",
       "    <tr>\n",
       "      <th>306687</th>\n",
       "      <td>2020-06-20</td>\n",
       "      <td>79.0</td>\n",
       "    </tr>\n",
       "    <tr>\n",
       "      <th>538215</th>\n",
       "      <td>2020-08-19</td>\n",
       "      <td>559.0</td>\n",
       "    </tr>\n",
       "    <tr>\n",
       "      <th>580216</th>\n",
       "      <td>2020-08-31</td>\n",
       "      <td>113.0</td>\n",
       "    </tr>\n",
       "  </tbody>\n",
       "</table>\n",
       "</div>"
      ],
      "text/plain": [
       "       ObservationDate  Active\n",
       "341244      2020-06-30   340.0\n",
       "766236      2020-10-19   277.0\n",
       "306687      2020-06-20    79.0\n",
       "538215      2020-08-19   559.0\n",
       "580216      2020-08-31   113.0"
      ]
     },
     "execution_count": 9,
     "metadata": {},
     "output_type": "execute_result"
    }
   ],
   "source": [
    "data.head()"
   ]
  },
  {
   "cell_type": "code",
   "execution_count": 10,
   "metadata": {},
   "outputs": [],
   "source": [
    "from tqdm import tqdm"
   ]
  },
  {
   "cell_type": "code",
   "execution_count": 11,
   "metadata": {},
   "outputs": [],
   "source": [
    "import re"
   ]
  },
  {
   "cell_type": "code",
   "execution_count": 12,
   "metadata": {},
   "outputs": [
    {
     "name": "stderr",
     "output_type": "stream",
     "text": [
      "100%|██████████| 1058552/1058552 [00:01<00:00, 767345.53it/s]\n"
     ]
    }
   ],
   "source": [
    "dates = []\n",
    "for date in tqdm(data['ObservationDate']):\n",
    "    dates.append(re.sub('-','',str(date)))"
   ]
  },
  {
   "cell_type": "code",
   "execution_count": 13,
   "metadata": {},
   "outputs": [],
   "source": [
    "data['ObservationDate'] = dates\n",
    "data = data.rename({'ObservationDate':'Date','Country_Region':'Country'},axis=1)"
   ]
  },
  {
   "cell_type": "code",
   "execution_count": 14,
   "metadata": {},
   "outputs": [
    {
     "data": {
      "text/html": [
       "<div>\n",
       "<style scoped>\n",
       "    .dataframe tbody tr th:only-of-type {\n",
       "        vertical-align: middle;\n",
       "    }\n",
       "\n",
       "    .dataframe tbody tr th {\n",
       "        vertical-align: top;\n",
       "    }\n",
       "\n",
       "    .dataframe thead th {\n",
       "        text-align: right;\n",
       "    }\n",
       "</style>\n",
       "<table border=\"1\" class=\"dataframe\">\n",
       "  <thead>\n",
       "    <tr style=\"text-align: right;\">\n",
       "      <th></th>\n",
       "      <th>Date</th>\n",
       "      <th>Active</th>\n",
       "    </tr>\n",
       "  </thead>\n",
       "  <tbody>\n",
       "    <tr>\n",
       "      <th>341244</th>\n",
       "      <td>20200630</td>\n",
       "      <td>340.0</td>\n",
       "    </tr>\n",
       "    <tr>\n",
       "      <th>766236</th>\n",
       "      <td>20201019</td>\n",
       "      <td>277.0</td>\n",
       "    </tr>\n",
       "    <tr>\n",
       "      <th>306687</th>\n",
       "      <td>20200620</td>\n",
       "      <td>79.0</td>\n",
       "    </tr>\n",
       "    <tr>\n",
       "      <th>538215</th>\n",
       "      <td>20200819</td>\n",
       "      <td>559.0</td>\n",
       "    </tr>\n",
       "    <tr>\n",
       "      <th>580216</th>\n",
       "      <td>20200831</td>\n",
       "      <td>113.0</td>\n",
       "    </tr>\n",
       "    <tr>\n",
       "      <th>...</th>\n",
       "      <td>...</td>\n",
       "      <td>...</td>\n",
       "    </tr>\n",
       "    <tr>\n",
       "      <th>996611</th>\n",
       "      <td>20201216</td>\n",
       "      <td>1691.0</td>\n",
       "    </tr>\n",
       "    <tr>\n",
       "      <th>253210</th>\n",
       "      <td>20200606</td>\n",
       "      <td>82.0</td>\n",
       "    </tr>\n",
       "    <tr>\n",
       "      <th>485253</th>\n",
       "      <td>20200806</td>\n",
       "      <td>1083.0</td>\n",
       "    </tr>\n",
       "    <tr>\n",
       "      <th>115400</th>\n",
       "      <td>20200426</td>\n",
       "      <td>42.0</td>\n",
       "    </tr>\n",
       "    <tr>\n",
       "      <th>375375</th>\n",
       "      <td>20200709</td>\n",
       "      <td>1414.0</td>\n",
       "    </tr>\n",
       "  </tbody>\n",
       "</table>\n",
       "<p>1058552 rows × 2 columns</p>\n",
       "</div>"
      ],
      "text/plain": [
       "            Date  Active\n",
       "341244  20200630   340.0\n",
       "766236  20201019   277.0\n",
       "306687  20200620    79.0\n",
       "538215  20200819   559.0\n",
       "580216  20200831   113.0\n",
       "...          ...     ...\n",
       "996611  20201216  1691.0\n",
       "253210  20200606    82.0\n",
       "485253  20200806  1083.0\n",
       "115400  20200426    42.0\n",
       "375375  20200709  1414.0\n",
       "\n",
       "[1058552 rows x 2 columns]"
      ]
     },
     "execution_count": 14,
     "metadata": {},
     "output_type": "execute_result"
    }
   ],
   "source": [
    "data"
   ]
  },
  {
   "cell_type": "code",
   "execution_count": 15,
   "metadata": {},
   "outputs": [],
   "source": [
    "data.dropna(inplace=True)"
   ]
  },
  {
   "cell_type": "code",
   "execution_count": 16,
   "metadata": {},
   "outputs": [
    {
     "data": {
      "text/plain": [
       "Date      0\n",
       "Active    0\n",
       "dtype: int64"
      ]
     },
     "execution_count": 16,
     "metadata": {},
     "output_type": "execute_result"
    }
   ],
   "source": [
    "data.isna().sum()"
   ]
  },
  {
   "cell_type": "code",
   "execution_count": 17,
   "metadata": {},
   "outputs": [],
   "source": [
    "from sklearn.model_selection import *\n",
    "from sklearn.metrics import *"
   ]
  },
  {
   "cell_type": "code",
   "execution_count": 18,
   "metadata": {},
   "outputs": [],
   "source": [
    "import numpy as np"
   ]
  },
  {
   "cell_type": "code",
   "execution_count": 19,
   "metadata": {},
   "outputs": [],
   "source": [
    "data['Date'] = data['Date'].astype(int)\n",
    "data['Active'] = data['Active']"
   ]
  },
  {
   "cell_type": "code",
   "execution_count": 20,
   "metadata": {},
   "outputs": [
    {
     "data": {
      "text/html": [
       "<div>\n",
       "<style scoped>\n",
       "    .dataframe tbody tr th:only-of-type {\n",
       "        vertical-align: middle;\n",
       "    }\n",
       "\n",
       "    .dataframe tbody tr th {\n",
       "        vertical-align: top;\n",
       "    }\n",
       "\n",
       "    .dataframe thead th {\n",
       "        text-align: right;\n",
       "    }\n",
       "</style>\n",
       "<table border=\"1\" class=\"dataframe\">\n",
       "  <thead>\n",
       "    <tr style=\"text-align: right;\">\n",
       "      <th></th>\n",
       "      <th>Date</th>\n",
       "      <th>Active</th>\n",
       "    </tr>\n",
       "  </thead>\n",
       "  <tbody>\n",
       "    <tr>\n",
       "      <th>341244</th>\n",
       "      <td>20200630</td>\n",
       "      <td>340.0</td>\n",
       "    </tr>\n",
       "    <tr>\n",
       "      <th>766236</th>\n",
       "      <td>20201019</td>\n",
       "      <td>277.0</td>\n",
       "    </tr>\n",
       "    <tr>\n",
       "      <th>306687</th>\n",
       "      <td>20200620</td>\n",
       "      <td>79.0</td>\n",
       "    </tr>\n",
       "    <tr>\n",
       "      <th>538215</th>\n",
       "      <td>20200819</td>\n",
       "      <td>559.0</td>\n",
       "    </tr>\n",
       "    <tr>\n",
       "      <th>580216</th>\n",
       "      <td>20200831</td>\n",
       "      <td>113.0</td>\n",
       "    </tr>\n",
       "  </tbody>\n",
       "</table>\n",
       "</div>"
      ],
      "text/plain": [
       "            Date  Active\n",
       "341244  20200630   340.0\n",
       "766236  20201019   277.0\n",
       "306687  20200620    79.0\n",
       "538215  20200819   559.0\n",
       "580216  20200831   113.0"
      ]
     },
     "execution_count": 20,
     "metadata": {},
     "output_type": "execute_result"
    }
   ],
   "source": [
    "data.head()"
   ]
  },
  {
   "cell_type": "code",
   "execution_count": 21,
   "metadata": {},
   "outputs": [
    {
     "data": {
      "text/plain": [
       "Date        int64\n",
       "Active    float64\n",
       "dtype: object"
      ]
     },
     "execution_count": 21,
     "metadata": {},
     "output_type": "execute_result"
    }
   ],
   "source": [
    "data.dtypes"
   ]
  },
  {
   "cell_type": "code",
   "execution_count": 22,
   "metadata": {},
   "outputs": [],
   "source": [
    "X = data.drop('Active',axis=1)\n",
    "y = data['Active']"
   ]
  },
  {
   "cell_type": "code",
   "execution_count": 23,
   "metadata": {},
   "outputs": [],
   "source": [
    "X_train,X_test,y_train,y_test = train_test_split(X,y,test_size=0.05)"
   ]
  },
  {
   "cell_type": "code",
   "execution_count": 24,
   "metadata": {},
   "outputs": [
    {
     "data": {
      "text/plain": [
       "(1005164, 52904)"
      ]
     },
     "execution_count": 24,
     "metadata": {},
     "output_type": "execute_result"
    }
   ],
   "source": [
    "len(X_train),len(X_test)"
   ]
  },
  {
   "cell_type": "markdown",
   "metadata": {},
   "source": [
    "## Modelling"
   ]
  },
  {
   "cell_type": "code",
   "execution_count": 25,
   "metadata": {},
   "outputs": [],
   "source": [
    "import matplotlib.pyplot as plt"
   ]
  },
  {
   "cell_type": "code",
   "execution_count": 26,
   "metadata": {},
   "outputs": [
    {
     "data": {
      "image/png": "[encoded data removed]",
      "text/plain": [
       "<Figure size 432x288 with 1 Axes>"
      ]
     },
     "metadata": {
      "needs_background": "light"
     },
     "output_type": "display_data"
    }
   ],
   "source": [
    "plt.plot(X_train, y_train, 'ro')\n",
    "plt.show()"
   ]
  },
  {
   "cell_type": "code",
   "execution_count": 27,
   "metadata": {},
   "outputs": [],
   "source": [
    "import torch\n",
    "import torch.nn as nn"
   ]
  },
  {
   "cell_type": "code",
   "execution_count": 28,
   "metadata": {},
   "outputs": [],
   "source": [
    "class Model(nn.Module):\n",
    "    def __init__(self,input_size,output_size):\n",
    "        super().__init__()\n",
    "        self.input = nn.Linear(input_size,32)\n",
    "        self.fc1 = nn.Linear(32,64)\n",
    "        self.relu = nn.ReLU()\n",
    "        self.output = nn.Linear(64,output_size)\n",
    "    \n",
    "    def forward(self,X,relu_q=False):\n",
    "        y_preds = self.input(X)\n",
    "        if relu_q:\n",
    "            y_preds = self.fc1(y_preds)\n",
    "            y_preds = self.output(y_preds)\n",
    "            y_preds = self.relu(y_preds)\n",
    "            return y_preds\n",
    "        y_preds = self.fc1(y_preds)\n",
    "        y_preds = self.output(y_preds)\n",
    "        return y_preds"
   ]
  },
  {
   "cell_type": "code",
   "execution_count": 29,
   "metadata": {},
   "outputs": [],
   "source": [
    "model = Model(1,1)"
   ]
  },
  {
   "cell_type": "code",
   "execution_count": 30,
   "metadata": {},
   "outputs": [],
   "source": [
    "optimizer = torch.optim.Adam(model.parameters(),lr=0.01)"
   ]
  },
  {
   "cell_type": "code",
   "execution_count": 31,
   "metadata": {},
   "outputs": [],
   "source": [
    "criterion = nn.MSELoss()"
   ]
  },
  {
   "cell_type": "code",
   "execution_count": 32,
   "metadata": {},
   "outputs": [],
   "source": [
    "X_train = torch.from_numpy(np.array(X_train).astype(np.float32))\n",
    "X_test = torch.from_numpy(np.array(X_test).astype(np.float32))\n",
    "y_train = torch.from_numpy(np.array(y_train).astype(np.float32))\n",
    "y_test = torch.from_numpy(np.array(y_test).astype(np.float32))"
   ]
  },
  {
   "cell_type": "code",
   "execution_count": 33,
   "metadata": {},
   "outputs": [],
   "source": [
    "import wandb"
   ]
  },
  {
   "cell_type": "code",
   "execution_count": 34,
   "metadata": {},
   "outputs": [],
   "source": [
    "PROJECT_NAME = \"Covid19-Active-Cases\""
   ]
  },
  {
   "cell_type": "code",
   "execution_count": 35,
   "metadata": {},
   "outputs": [],
   "source": [
    "from tqdm import tqdm"
   ]
  },
  {
   "cell_type": "code",
   "execution_count": 36,
   "metadata": {},
   "outputs": [],
   "source": [
    "# wandb.init(project=PROJECT_NAME,name='baseline-1')\n",
    "# for _ in tqdm(range(1)):\n",
    "#     outputs = model(X_test,True)\n",
    "#     loss = criterion(outputs,y_test)\n",
    "#     loss.backward()\n",
    "#     optimizer.step()\n",
    "#     optimizer.zero_grad()\n",
    "#     preds = model(X_test).detach()\n",
    "#     loss_test = criterion(preds,y_test)\n",
    "#     wandb.log({'loss':loss.item(),'val_loss':loss_test.item(),'epoch':_})"
   ]
  },
  {
   "cell_type": "code",
   "execution_count": 37,
   "metadata": {},
   "outputs": [
    {
     "data": {
      "image/png": "[encoded data removed]",
      "text/plain": [
       "<Figure size 432x288 with 1 Axes>"
      ]
     },
     "metadata": {
      "needs_background": "light"
     },
     "output_type": "display_data"
    }
   ],
   "source": [
    "# Plot\n",
    "predicted = model(X_train).detach().numpy()\n",
    "\n",
    "plt.plot(np.array(X_train), np.array(y_train), 'ro')\n",
    "plt.plot(np.array(X_train), predicted, 'b')\n",
    "plt.show()"
   ]
  },
  {
   "cell_type": "code",
   "execution_count": 38,
   "metadata": {},
   "outputs": [],
   "source": [
    "# best num of epochs\n",
    "# best activation\n",
    "# best optimizer\n",
    "# best loss\n",
    "## best lr\n",
    "## best num of layers"
   ]
  },
  {
   "cell_type": "code",
   "execution_count": 39,
   "metadata": {},
   "outputs": [],
   "source": [
    "class Model(nn.Module):\n",
    "    def __init__(self,input_size,output_size,activation_funtion):\n",
    "        super().__init__()\n",
    "        self.input = nn.Linear(input_size,32)\n",
    "        self.fc1 = nn.Linear(32,64)\n",
    "        self.fc2 = nn.Linear(64,64)\n",
    "        self.fc3 = nn.Linear(64,32)\n",
    "        self.af = activation_funtion()\n",
    "        self.output = nn.Linear(32,output_size)\n",
    "    \n",
    "    def forward(self,X,af=False,num_of_layers=2):\n",
    "        y_preds = self.input(X)\n",
    "        if af:\n",
    "            y_preds = self.fc1(y_preds)\n",
    "            for _ in range(num_of_layers):\n",
    "                y_preds = self.fc2(y_preds)\n",
    "            y_preds = self.fc3(y_preds)\n",
    "            y_preds = self.output(y_preds)\n",
    "            y_preds = self.af(y_preds)\n",
    "            return y_preds\n",
    "        y_preds = self.fc1(y_preds)\n",
    "        for _ in range(num_of_layers):\n",
    "            y_preds = self.fc2(y_preds)\n",
    "        y_preds = self.fc3(y_preds)\n",
    "        y_preds = self.output(y_preds)\n",
    "        return y_preds\n",
    "model = Model(1,1,nn.ReLU)\n",
    "optimizer = torch.optim.Adam(model.parameters(),lr=0.01)\n",
    "criterion = nn.MSELoss()"
   ]
  },
  {
   "cell_type": "code",
   "execution_count": 40,
   "metadata": {},
   "outputs": [],
   "source": [
    "# # best num_of_epochs\n",
    "# epochs_to_try = [25,50,75,100,125,250,500]\n",
    "# for epoch_to_try in epochs_to_try:\n",
    "#     model = Model(1,1,nn.ReLU)\n",
    "#     optimizer = torch.optim.Adam(model.parameters(),lr=0.01)\n",
    "#     criterion = nn.MSELoss()\n",
    "#     wandb.init(project=PROJECT_NAME,name=f'epoch_to_try-{epoch_to_try}')\n",
    "#     for _ in tqdm(range(epoch_to_try)):\n",
    "#         outputs = model(X_test,True)\n",
    "#         loss = criterion(outputs,y_test)\n",
    "#         loss.backward()\n",
    "#         optimizer.step()\n",
    "#         optimizer.zero_grad()\n",
    "#         preds = model(X_test).detach()\n",
    "#         loss_test = criterion(preds,y_test)\n",
    "#         wandb.log({'loss':loss.item(),'val_loss':loss_test.item(),'epoch':_})\n",
    "#     wandb.finish()"
   ]
  },
  {
   "cell_type": "code",
   "execution_count": 41,
   "metadata": {},
   "outputs": [],
   "source": [
    "# # best activation\n",
    "# activations = [nn.ELU,nn.LeakyReLU,nn.PReLU,nn.ReLU,nn.ReLU6,nn.RReLU,nn.SELU,nn.CELU,nn.GELU,nn.SiLU,nn.Tanh]\n",
    "# for activation in activations:\n",
    "#     model = Model(1,1,activation)\n",
    "#     optimizer = torch.optim.Adam(model.parameters(),lr=0.01)\n",
    "#     criterion = nn.MSELoss()\n",
    "#     wandb.init(project=PROJECT_NAME,name=f'activation-{activation}')\n",
    "#     for _ in tqdm(range(100)):\n",
    "#         outputs = model(X_test,True)\n",
    "#         loss = criterion(outputs,y_test)\n",
    "#         loss.backward()\n",
    "#         optimizer.step()\n",
    "#         optimizer.zero_grad()\n",
    "#         preds = model(X_test).detach()\n",
    "#         loss_test = criterion(preds,y_test)\n",
    "#         wandb.log({'loss':loss.item(),'val_loss':loss_test.item(),'epoch':_})\n",
    "#     wandb.finish()"
   ]
  },
  {
   "cell_type": "code",
   "execution_count": 42,
   "metadata": {},
   "outputs": [],
   "source": [
    "# # best optimizer\n",
    "# optimizers = [torch.optim.Adam,torch.optim.AdamW,torch.optim.Adamax,torch.optim.SGD]\n",
    "# for optimizer in optimizers:\n",
    "#     model = Model(1,1,nn.ReLU)\n",
    "#     optimizer = optimizer(model.parameters(),lr=0.01)\n",
    "#     criterion = nn.MSELoss()\n",
    "#     wandb.init(project=PROJECT_NAME,name=f'optimizer-{optimizer}')\n",
    "#     for _ in tqdm(range(100)):\n",
    "#         outputs = model(X_test,True)\n",
    "#         loss = criterion(outputs,y_test)\n",
    "#         loss.backward()\n",
    "#         optimizer.step()\n",
    "#         optimizer.zero_grad()\n",
    "#         preds = model(X_test).detach()\n",
    "#         loss_test = criterion(preds,y_test)\n",
    "#         wandb.log({'loss':loss.item(),'val_loss':loss_test.item(),'epoch':_})\n",
    "#     wandb.finish()"
   ]
  },
  {
   "cell_type": "code",
   "execution_count": 43,
   "metadata": {},
   "outputs": [],
   "source": [
    "# # best loss\n",
    "# lossess = [nn.L1Loss,nn.MSELoss,torch.nn.HingeEmbeddingLoss,torch.nn.MarginRankingLoss,torch.nn.TripletMarginLoss]\n",
    "# for loss_ in lossess:\n",
    "#     model = Model(1,1,nn.ReLU)\n",
    "#     optimizer = torch.optim.Adam(model.parameters(),lr=0.01)\n",
    "#     criterion = loss_()\n",
    "#     wandb.init(project=PROJECT_NAME,name=f'loss_-{loss_}')\n",
    "#     for _ in tqdm(range(100)):\n",
    "#         outputs = model(X_test,True)\n",
    "#         loss = criterion(outputs,y_test)\n",
    "#         loss.backward()\n",
    "#         optimizer.step()\n",
    "#         optimizer.zero_grad()\n",
    "#         preds = model(X_test).detach()\n",
    "#         loss_test = criterion(preds,y_test)\n",
    "#         wandb.log({'loss':loss.item(),'val_loss':loss_test.item(),'epoch':_})\n",
    "#     wandb.finish()"
   ]
  },
  {
   "cell_type": "code",
   "execution_count": 44,
   "metadata": {},
   "outputs": [],
   "source": [
    "# # best num of layers\n",
    "# num_of_layers = [1,2,3,4,5,7,10,12,25,50,75,100]\n",
    "# for num_of_layers in num_of_layers:\n",
    "#     model = Model(1,1,nn.ReLU)\n",
    "#     optimizer = torch.optim.Adam(model.parameters(),lr=0.01)\n",
    "#     criterion = nn.MSELoss()\n",
    "#     wandb.init(project=PROJECT_NAME,name=f'num_of_layers-{num_of_layers}')\n",
    "#     for _ in tqdm(range(10)):\n",
    "#         outputs = model(X_test,True,num_of_layers)\n",
    "#         loss = criterion(outputs,y_test)\n",
    "#         loss.backward()\n",
    "#         optimizer.step()\n",
    "#         optimizer.zero_grad()\n",
    "#         preds = model(X_test,True,num_of_layers).detach()\n",
    "#         loss_test = criterion(preds,y_test)\n",
    "#         wandb.log({'loss':loss.item(),'val_loss':loss_test.item(),'epoch':_})\n",
    "#     wandb.finish()"
   ]
  },
  {
   "cell_type": "code",
   "execution_count": 45,
   "metadata": {},
   "outputs": [],
   "source": [
    "# best num of epochs = 125\n",
    "# best activation = RReLU\n",
    "# best optimizer = Adam\n",
    "# best loss = L1Loss\n",
    "## best lr = \n",
    "## best num of layers = 9"
   ]
  },
  {
   "cell_type": "code",
   "execution_count": 46,
   "metadata": {},
   "outputs": [],
   "source": [
    "# # best num of layers\n",
    "# lrs = [1.0,0.1,0.01,0.001,0.0001,0.00001]\n",
    "# for lr in lrs:\n",
    "#     model = Model(1,1,nn.ReLU)\n",
    "#     optimizer = torch.optim.Adam(model.parameters(),lr=lr)\n",
    "#     criterion = nn.MSELoss()\n",
    "#     wandb.init(project=PROJECT_NAME,name=f'lr-{lr}')\n",
    "#     for _ in tqdm(range(10)):\n",
    "#         outputs = model(X_test,True,2)\n",
    "#         loss = criterion(outputs,y_test)\n",
    "#         loss.backward()\n",
    "#         optimizer.step()\n",
    "#         optimizer.zero_grad()\n",
    "#         preds = model(X_test,True,2).detach()\n",
    "#         loss_test = criterion(preds,y_test)\n",
    "#         wandb.log({'loss':loss.item(),'val_loss':loss_test.item(),'epoch':_})\n",
    "#     wandb.finish()"
   ]
  },
  {
   "cell_type": "code",
   "execution_count": 47,
   "metadata": {},
   "outputs": [],
   "source": [
    "# best num of epochs = 125\n",
    "# best activation = RReLU\n",
    "# best optimizer = Adam\n",
    "# best loss = L1Loss\n",
    "## best lr = 0.1\n",
    "## best num of layers = 9"
   ]
  },
  {
   "cell_type": "code",
   "execution_count": 52,
   "metadata": {},
   "outputs": [],
   "source": [
    "lr = 0.1\n",
    "model = Model(1,1,nn.RReLU)\n",
    "epochs = 1\n",
    "optimizer = torch.optim.Adam(model.parameters(),lr=lr)\n",
    "criterion = nn.L1Loss()"
   ]
  },
  {
   "cell_type": "code",
   "execution_count": null,
   "metadata": {},
   "outputs": [],
   "source": [
    "wandb.init(project=PROJECT_NAME,name='Big-Dog-Model-0')\n",
    "for epoch in tqdm(range(epochs)):\n",
    "    outputs = model(X_test,True,9)\n",
    "    loss = criterion(outputs,y_test)\n",
    "    loss.backward()\n",
    "    optimizer.step()\n",
    "    optimizer.zero_grad()\n",
    "    outputs = model(X_test,True,2).detach()\n",
    "    loss_test = criterion(outputs,y_test)\n",
    "    wandb.log({'loss':loss.item(),'val_loss':loss_test.item(),'epoch':epoch})\n",
    "wandb.finish()"
   ]
  },
  {
   "cell_type": "code",
   "execution_count": null,
   "metadata": {},
   "outputs": [],
   "source": [
    "# Plot\n",
    "predicted = model(X_train).detach().numpy()\n",
    "\n",
    "plt.plot(np.array(X_train), np.array(y_train), 'ro')\n",
    "plt.plot(np.array(X_train), predicted, 'b')\n",
    "plt.show()"
   ]
  },
  {
   "cell_type": "code",
   "execution_count": null,
   "metadata": {},
   "outputs": [],
   "source": [
    "torch.save('./model.pth',model)"
   ]
  },
  {
   "cell_type": "code",
   "execution_count": null,
   "metadata": {},
   "outputs": [],
   "source": [
    "torch.save('./model.pt',model)"
   ]
  },
  {
   "cell_type": "markdown",
   "metadata": {},
   "source": [
    "## Done"
   ]
  },
  {
   "cell_type": "code",
   "execution_count": null,
   "metadata": {},
   "outputs": [],
   "source": []
  }
 ],
 "metadata": {
  "kernelspec": {
   "display_name": "Python 3.7.3 64-bit ('base': conda)",
   "language": "python",
   "name": "python373jvsc74a57bd0210f9608a45c0278a93c9e0b10db32a427986ab48cfc0d20c139811eb78c4bbc"
  },
  "language_info": {
   "codemirror_mode": {
    "name": "ipython",
    "version": 3
   },
   "file_extension": ".py",
   "mimetype": "text/x-python",
   "name": "python",
   "nbconvert_exporter": "python",
   "pygments_lexer": "ipython3",
   "version": "3.7.3"
  }
 },
 "nbformat": 4,
 "nbformat_minor": 2
}
